{
 "cells": [
  {
   "cell_type": "code",
   "execution_count": 1,
   "metadata": {},
   "outputs": [
    {
     "name": "stdout",
     "output_type": "stream",
     "text": [
      "         X1        X2        X3        X4        X5        X6        X7  \\\n",
      "0  0.202296  0.003560  0.411261  0.015348  0.693147  0.036360  0.343512   \n",
      "1  0.006836  0.007688  0.597304  0.015348  0.686838  0.067407  0.347869   \n",
      "2  0.609621  0.001461  0.466186  0.015348  0.693090  0.018944  0.345032   \n",
      "3  0.074007  0.003072  0.535876  0.015348  0.693147  0.031475  0.347502   \n",
      "4  0.198356  0.007020  0.416238  0.015348  0.686838  0.061888  0.347441   \n",
      "\n",
      "         X8        X9       X10  ...       X12       X13       X14       X15  \\\n",
      "0  0.028087  0.681974  0.295769  ...  0.682731  0.249262  0.681974  0.016330   \n",
      "1  0.028640  0.497403  0.297943  ...  0.680891  0.249262  0.497403  0.670040   \n",
      "2  0.024502  0.647685  0.298255  ...  0.685525  0.249262  0.647685  0.648486   \n",
      "3  0.025393  0.587787  0.296057  ...  0.677980  0.249262  0.575364  0.632563   \n",
      "4  0.028450  0.537143  0.298167  ...  0.673286  0.249262  0.537143  0.671124   \n",
      "\n",
      "        X16       X17       X18       X19       X20  Y  \n",
      "0  0.242926  0.557461  0.028087  0.682731  0.036360  0  \n",
      "1  0.245876  0.561336  0.028640  0.680891  0.067407  0  \n",
      "2  0.243602  0.559431  0.024502  0.685525  0.018944  0  \n",
      "3  0.246078  0.556761  0.025393  0.677980  0.031475  0  \n",
      "4  0.245505  0.561695  0.028450  0.673286  0.061888  0  \n",
      "\n",
      "[5 rows x 21 columns]\n"
     ]
    }
   ],
   "source": [
    "import pandas as pd\n",
    "\n",
    "# CSV 파일 경로\n",
    "file_path = r'C:\\Users\\USER\\projects\\project_study\\1주_실습데이터.csv'\n",
    "\n",
    "# CSV 파일 불러오기\n",
    "data = pd.read_csv(file_path)\n",
    "\n",
    "# 데이터 확인\n",
    "print(data.head())"
   ]
  },
  {
   "cell_type": "markdown",
   "metadata": {},
   "source": [
    "# 대본도 같이 적었습니다 참고정도만 .. 하시면 될 것 같습니다 !"
   ]
  },
  {
   "cell_type": "code",
   "execution_count": 2,
   "metadata": {},
   "outputs": [
    {
     "data": {
      "text/html": [
       "<div>\n",
       "<style scoped>\n",
       "    .dataframe tbody tr th:only-of-type {\n",
       "        vertical-align: middle;\n",
       "    }\n",
       "\n",
       "    .dataframe tbody tr th {\n",
       "        vertical-align: top;\n",
       "    }\n",
       "\n",
       "    .dataframe thead th {\n",
       "        text-align: right;\n",
       "    }\n",
       "</style>\n",
       "<table border=\"1\" class=\"dataframe\">\n",
       "  <thead>\n",
       "    <tr style=\"text-align: right;\">\n",
       "      <th></th>\n",
       "      <th>X1</th>\n",
       "      <th>X2</th>\n",
       "      <th>X3</th>\n",
       "      <th>X5</th>\n",
       "      <th>X6</th>\n",
       "      <th>X7</th>\n",
       "      <th>X8</th>\n",
       "      <th>X9</th>\n",
       "      <th>X10</th>\n",
       "      <th>X11</th>\n",
       "      <th>X12</th>\n",
       "      <th>X14</th>\n",
       "      <th>X15</th>\n",
       "      <th>X16</th>\n",
       "      <th>X17</th>\n",
       "      <th>X18</th>\n",
       "      <th>X19</th>\n",
       "      <th>X20</th>\n",
       "      <th>Y</th>\n",
       "    </tr>\n",
       "  </thead>\n",
       "  <tbody>\n",
       "    <tr>\n",
       "      <th>0</th>\n",
       "      <td>0.202296</td>\n",
       "      <td>0.00356</td>\n",
       "      <td>0.411261</td>\n",
       "      <td>0.693147</td>\n",
       "      <td>0.03636</td>\n",
       "      <td>0.343512</td>\n",
       "      <td>0.028087</td>\n",
       "      <td>0.681974</td>\n",
       "      <td>0.295769</td>\n",
       "      <td>0.003053</td>\n",
       "      <td>0.682731</td>\n",
       "      <td>0.681974</td>\n",
       "      <td>0.01633</td>\n",
       "      <td>0.242926</td>\n",
       "      <td>0.557461</td>\n",
       "      <td>0.028087</td>\n",
       "      <td>0.682731</td>\n",
       "      <td>0.03636</td>\n",
       "      <td>0</td>\n",
       "    </tr>\n",
       "  </tbody>\n",
       "</table>\n",
       "</div>"
      ],
      "text/plain": [
       "         X1       X2        X3        X5       X6        X7        X8  \\\n",
       "0  0.202296  0.00356  0.411261  0.693147  0.03636  0.343512  0.028087   \n",
       "\n",
       "         X9       X10       X11       X12       X14      X15       X16  \\\n",
       "0  0.681974  0.295769  0.003053  0.682731  0.681974  0.01633  0.242926   \n",
       "\n",
       "        X17       X18       X19      X20  Y  \n",
       "0  0.557461  0.028087  0.682731  0.03636  0  "
      ]
     },
     "execution_count": 2,
     "metadata": {},
     "output_type": "execute_result"
    }
   ],
   "source": [
    "# X1부터 X20까지의 열 범위를 선택하여 각 열에 대해 고유한 값의 수를 계산했습니다\n",
    "# 출력값을 볼때 X4와 X13은 1로 전부 같은 값이 존재한다고 나와 X4와 X13 열을 제거하였습니다\n",
    "unique_values_per_column = data.loc[:, 'X1':'X20'].nunique()\n",
    "unique_values_per_column\n",
    "#제거\n",
    "data = data.drop(columns=['X4', 'X13'])\n",
    "data.head(1)"
   ]
  },
  {
   "cell_type": "code",
   "execution_count": 3,
   "metadata": {},
   "outputs": [
    {
     "data": {
      "text/plain": [
       "X1     0\n",
       "X2     0\n",
       "X3     0\n",
       "X5     0\n",
       "X6     0\n",
       "X7     0\n",
       "X8     0\n",
       "X9     0\n",
       "X10    0\n",
       "X11    0\n",
       "X12    0\n",
       "X14    0\n",
       "X15    0\n",
       "X16    0\n",
       "X17    0\n",
       "X18    0\n",
       "X19    0\n",
       "X20    0\n",
       "Y      0\n",
       "dtype: int64"
      ]
     },
     "execution_count": 3,
     "metadata": {},
     "output_type": "execute_result"
    },
    {
     "ename": "",
     "evalue": "",
     "output_type": "error",
     "traceback": [
      "\u001b[1;31m현재 셀 또는 이전 셀에서 코드를 실행하는 동안 Kernel이 충돌했습니다. \n",
      "\u001b[1;31m셀의 코드를 검토하여 가능한 오류 원인을 식별하세요. \n",
      "\u001b[1;31m자세한 내용을 보려면 <a href='https://aka.ms/vscodeJupyterKernelCrash'>여기</a>를 클릭하세요. \n",
      "\u001b[1;31m자세한 내용은 Jupyter <a href='command:jupyter.viewOutput'>로그</a>를 참조하세요."
     ]
    }
   ],
   "source": [
    "#제거된 데이터를 가지고 결측치 확인을 해보았을때 전부 0으로 결측치가 없음을 확인할 수 있었습니다\n",
    "data.isnull().sum()"
   ]
  }
 ],
 "metadata": {
  "kernelspec": {
   "display_name": "venv",
   "language": "python",
   "name": "python3"
  },
  "language_info": {
   "codemirror_mode": {
    "name": "ipython",
    "version": 3
   },
   "file_extension": ".py",
   "mimetype": "text/x-python",
   "name": "python",
   "nbconvert_exporter": "python",
   "pygments_lexer": "ipython3",
   "version": "3.9.6"
  }
 },
 "nbformat": 4,
 "nbformat_minor": 2
}
